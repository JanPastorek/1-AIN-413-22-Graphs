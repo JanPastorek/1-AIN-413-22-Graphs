{
 "cells": [
  {
   "cell_type": "code",
   "execution_count": 6,
   "metadata": {
    "collapsed": true
   },
   "outputs": [],
   "source": [
    "import itertools\n",
    "import random\n",
    "import numpy as np\n",
    "from collections import defaultdict, Counter\n",
    "\n",
    "from scipy.optimize import curve_fit\n",
    "import matplotlib.pyplot as plt\n",
    "import itertools as it\n",
    "%matplotlib inline\n",
    "import networkx as nx"
   ]
  },
  {
   "cell_type": "code",
   "execution_count": 7,
   "metadata": {},
   "outputs": [],
   "source": [
    "# Run this only in Colab environment\n",
    "# from google.colab import drive\n",
    "# drive.mount('/content/gdrive')\n",
    "# path = '/content/gdrive/My Drive/<your_gdrivefolder>/data/'\n",
    "###############################################################\n",
    "# for local storage\n",
    "path = '../data/'"
   ]
  },
  {
   "cell_type": "markdown",
   "metadata": {},
   "source": [
    "## Exercise 1 (6 pts)\n",
    "\n",
    "\n",
    "Compare random networks with a regular lattice.\n",
    "\n",
    "(i) \n",
    "Generate a two-dimensional lattice as a network (`nx.grid_2d_graph(n,m)`) and make a layout using `nx.spring_layout(G,iterations = 100)` (1pt)\n",
    "\n",
    "(ii) \n",
    "Draw the network, try using more iteration steps to obtain a descent lattice (1pt)\n",
    "\n",
    "(iii)\n",
    "Compare the average shortest path lengths between the lattice network, ER random networks and BA random networks.\n",
    "Try out different connection probabilities (for ER) or number of links $m$ to connect (for BA respectively). \n",
    "Plot your findings such that the differnt scaling over the number of nodes become obvious. (3pts)\n",
    "\n",
    "(iV)\n",
    "Interprete your results. Do they match your expectations? (1pt)\n",
    "\n",
    "---"
   ]
  },
  {
   "cell_type": "code",
   "execution_count": null,
   "metadata": {},
   "outputs": [],
   "source": []
  },
  {
   "cell_type": "markdown",
   "metadata": {},
   "source": [
    "## Exercise 2 (7 pts)\n",
    "\n",
    "Degree dynamics and degree distribution of BA networks.\n",
    "\n",
    "(i)\n",
    "Generate BA networks of increasing size and compare (fit) the degree dynamics to it. Identify the preferential attachment by its specific scaling over time. (3pts)\n",
    "\n",
    "(ii)\n",
    "Generate BA networks of reasonable large size and plot the degree distribution. Compare it to both, the result from the estimation\n",
    "\n",
    "$p_k = 2m^2 k^{-3}$\n",
    "\n",
    "and the result from the Master equation \n",
    "\n",
    "$p_k = \\frac{2m(m+1)}{k(k+1)(k+2)}$.\n",
    "\n",
    "Hint: Work with the cumulative distributions to reduce noise.\n",
    "(4pts)\n",
    "\n",
    "---"
   ]
  },
  {
   "cell_type": "code",
   "execution_count": 8,
   "metadata": {},
   "outputs": [
    {
     "data": {
      "text/plain": [
       "Text(0.5, 0, 'Degree')"
      ]
     },
     "execution_count": 8,
     "metadata": {},
     "output_type": "execute_result"
    },
    {
     "data": {
      "image/png": "[encoded data removed]",
      "text/plain": [
       "<Figure size 504x432 with 1 Axes>"
      ]
     },
     "metadata": {
      "needs_background": "light"
     },
     "output_type": "display_data"
    }
   ],
   "source": [
    "# HowTo get the cumulative distribution\n",
    "N = 10000\n",
    "m =3\n",
    "G = nx.barabasi_albert_graph(N,m)\n",
    "\n",
    "degree_sequence = sorted([d for n, d in G.degree()], reverse=True)  # degree sequence\n",
    "degreeCount = Counter(degree_sequence)\n",
    "deg, cnt = zip(*degreeCount.items())\n",
    "cs = np.cumsum(cnt)\n",
    "freq = 1.0*cs/sum(cs)\n",
    "\n",
    "plt.figure(figsize=(7,6))\n",
    "\n",
    "plt.loglog(deg, freq, '.')\n",
    "plt.title(\"Cumulative Distribution plot\")\n",
    "plt.ylabel(\"Sample with value > Degree\")\n",
    "plt.xlabel(\"Degree\")\n"
   ]
  },
  {
   "cell_type": "markdown",
   "metadata": {},
   "source": [
    "## Exercise (7pts)\n",
    "\n",
    "Compare three real-world datasets:\n",
    "\n",
    "`protein.edgelist.txt`\n",
    "\n",
    "`collaboration.edgelist.txt`\n",
    "\n",
    "`powergrid.edgelist.txt`\n",
    "\n",
    "(They can be imported using the `nx.read_edgelist` command)\n",
    "\n",
    "(i) \n",
    "Plot the cumulative degree distribution for each network.\n",
    "Can you decide whether it is power-law or exponentially distributed? \n",
    "(2pts)\n",
    "\n",
    "(iii)\n",
    "Estimate the exponent or the decay parameter in the exponential case, respectively.\n",
    "   (a rough approximation is enough, no optimized fitting needed)\n",
    "(2pts)\n",
    "\n",
    "(iv)\n",
    "Write a function to compute the average next-nearest-neighbor degree.\n",
    "(2pts)\n",
    "\n",
    "(v)\n",
    "Identify the friendship paradox.\n",
    "(1pt)"
   ]
  },
  {
   "cell_type": "code",
   "execution_count": null,
   "metadata": {},
   "outputs": [],
   "source": []
  }
 ],
 "metadata": {
  "kernelspec": {
   "display_name": "Python 3.7.0 64-bit",
   "language": "python",
   "name": "python3"
  },
  "language_info": {
   "codemirror_mode": {
    "name": "ipython",
    "version": 3
   },
   "file_extension": ".py",
   "mimetype": "text/x-python",
   "name": "python",
   "nbconvert_exporter": "python",
   "pygments_lexer": "ipython3",
   "version": "3.7.0"
  },
  "vscode": {
   "interpreter": {
    "hash": "e774977668b7c0ae8309835a5187aa7fbf7669e7d0bb59755bc63e573643edcd"
   }
  }
 },
 "nbformat": 4,
 "nbformat_minor": 2
}
