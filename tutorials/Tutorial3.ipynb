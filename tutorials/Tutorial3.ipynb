{
 "cells": [
  {
   "cell_type": "markdown",
   "metadata": {},
   "source": [
    "# Isomorphisms"
   ]
  },
  {
   "cell_type": "code",
   "execution_count": 1,
   "metadata": {},
   "outputs": [],
   "source": [
    "import networkx as nx\n",
    "import matplotlib.pyplot as plt\n",
    "from networkx.algorithms import isomorphism"
   ]
  },
  {
   "cell_type": "code",
   "execution_count": 2,
   "metadata": {},
   "outputs": [],
   "source": [
    "# function that takes two graphs and returns all isomorphisms\n",
    "def find_isomorphisms(G1, G2):\n",
    "    yield from nx.isomorphism.GraphMatcher(G1, G2).isomorphisms_iter()"
   ]
  },
  {
   "cell_type": "code",
   "execution_count": 6,
   "metadata": {},
   "outputs": [],
   "source": [
    "# generate two graphs\n",
    "N = 15\n",
    "while True:\n",
    "    # G1 = nx.gnp_random_graph(N, 0.5)\n",
    "    G1 = nx.gnm_random_graph(N, 20)\n",
    "    G2 = nx.gnm_random_graph(N, 20)\n",
    "    # G2 = nx.gnp_random_graph(N, 0.5)\n",
    "    isomorphisms = find_isomorphisms(G1, G2)\n",
    "    if len(list(find_isomorphisms(G1, G2))) > 0:\n",
    "        print(list(isomorphisms))\n",
    "        # draw the graphs\n",
    "        nx.draw(G1, with_labels=True, font_weight='bold')\n",
    "        plt.show()\n",
    "        nx.draw(G2, with_labels=True, font_weight='bold')\n",
    "        plt.show()\n",
    "        print(nx.is_isomorphic(G1, G2))\n",
    "        break"
   ]
  },
  {
   "cell_type": "code",
   "execution_count": null,
   "metadata": {},
   "outputs": [],
   "source": []
  }
 ],
 "metadata": {
  "kernelspec": {
   "display_name": "Python 3",
   "language": "python",
   "name": "python3"
  },
  "language_info": {
   "codemirror_mode": {
    "name": "ipython",
    "version": 3
   },
   "file_extension": ".py",
   "mimetype": "text/x-python",
   "name": "python",
   "nbconvert_exporter": "python",
   "pygments_lexer": "ipython3",
   "version": "3.9.13"
  },
  "orig_nbformat": 4
 },
 "nbformat": 4,
 "nbformat_minor": 2
}
