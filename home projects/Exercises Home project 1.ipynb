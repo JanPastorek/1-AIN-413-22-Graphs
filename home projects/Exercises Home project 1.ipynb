{
 "cells": [
  {
   "cell_type": "markdown",
   "metadata": {},
   "source": [
    "# Exercises - Home project 1 "
   ]
  },
  {
   "cell_type": "code",
   "execution_count": null,
   "metadata": {},
   "outputs": [],
   "source": [
    "import networkx as nx\n",
    "import matplotlib.pyplot as plt"
   ]
  },
  {
   "cell_type": "code",
   "execution_count": null,
   "metadata": {},
   "outputs": [],
   "source": [
    "def havel_hakimi(sequence):\n",
    "    # TODO: implement the Havel-Hakimi algorithm on your own\n",
    "    # return true or false if the sequence is graphical or not\n",
    "    return True"
   ]
  },
  {
   "cell_type": "code",
   "execution_count": 1,
   "metadata": {},
   "outputs": [],
   "source": [
    "def test_havel_hakimi():\n",
    "    # note that these are the same seq. as we did by hand on exercises\n",
    "    list1 = [2, 2, 2, 1, 1]\n",
    "    list2 = [2, 2]\n",
    "    list3 = [2, 2, 2, 2]\n",
    "    list4 = [3, 3, 5, 1, 7, 9, 1]\n",
    "    list5 = [3, 3, 3, 3, 3, 3, 3, 3]\n",
    "    list6 = [6, 5, 5, 4, 3, 3, 3, 2, 2]\n",
    "    list7 = [3, 3, 2, 2, 1, 1]\n",
    "    list8 = [7, 6, 4, 3, 3, 2]\n",
    "    list9 = [3, 3, 1, 1]\n",
    "    list10 = [5, 4, 3, 3, 2, 2, 2, 1, 1, 1]\n",
    "        \n",
    "\n",
    "    # check if the sequence is graphical or not\n",
    "    assert havel_hakimi(list1) == nx.is_graphical(list1, method=\"hh\")\n",
    "    print(\"Test 1 passed \", str(list1) , \" is graphical? \", nx.is_graphical(list1, method=\"hh\"))\n",
    "    assert havel_hakimi(list2) == nx.is_graphical(list2, method=\"hh\")\n",
    "    print(\"Test 2 passed \", str(list2) , \" is graphical? \", nx.is_graphical(list2, method=\"hh\"))\n",
    "    assert havel_hakimi(list3) == nx.is_graphical(list3, method=\"hh\")\n",
    "    print(\"Test 3 passed \", str(list3) , \" is graphical? \", nx.is_graphical(list3, method=\"hh\"))\n",
    "    assert havel_hakimi(list4) == nx.is_graphical(list4, method=\"hh\")\n",
    "    print(\"Test 4 passed \", str(list4) , \" is graphical? \", nx.is_graphical(list4, method=\"hh\"))\n",
    "    assert havel_hakimi(list5) == nx.is_graphical(list5, method=\"hh\")\n",
    "    print(\"Test 5 passed \", str(list5) , \" is graphical? \", nx.is_graphical(list5, method=\"hh\"))\n",
    "    assert havel_hakimi(list6) == nx.is_graphical(list6, method=\"hh\")\n",
    "    print(\"Test 6 passed \", str(list6) , \" is graphical? \", nx.is_graphical(list6, method=\"hh\"))\n",
    "    assert havel_hakimi(list7) == nx.is_graphical(list7, method=\"hh\")\n",
    "    print(\"Test 7 passed \", str(list7) , \" is graphical? \", nx.is_graphical(list7, method=\"hh\"))\n",
    "    assert havel_hakimi(list8) == nx.is_graphical(list8, method=\"hh\")\n",
    "    print(\"Test 8 passed \", str(list8) , \" is graphical? \", nx.is_graphical(list8, method=\"hh\"))\n",
    "    assert havel_hakimi(list9) == nx.is_graphical(list9, method=\"hh\")\n",
    "    print(\"Test 9 passed \", str(list9) , \" is graphical? \", nx.is_graphical(list9, method=\"hh\"))\n",
    "    assert havel_hakimi(list10) == nx.is_graphical(list10, method=\"hh\")\n",
    "    print(\"Test 10 passed \", str(list10) , \" is graphical? \", nx.is_graphical(list10, method=\"hh\"))"
   ]
  },
  {
   "cell_type": "code",
   "execution_count": null,
   "metadata": {},
   "outputs": [],
   "source": [
    "test_havel_hakimi()"
   ]
  },
  {
   "cell_type": "code",
   "execution_count": null,
   "metadata": {},
   "outputs": [],
   "source": [
    "def all_graphs_from_degree_sequence(sequence: List[int]) -> List[nx.Graph]:\n",
    "    # TODO:\n",
    "    # return list of all non-isomorphic graphs constructed from the sequence on the input, if its graphical. If the sequence is not graphical, return an empty list.\n",
    "    pass            "
   ]
  },
  {
   "cell_type": "code",
   "execution_count": null,
   "metadata": {},
   "outputs": [],
   "source": [
    "\n",
    "\n",
    "def display_graphs(graphs: List[nx.Graph]):\n",
    "    # display all graphs in the list\n",
    "    for i, g in enumerate(graphs):\n",
    "        nx.draw(g, with_labels=True)\n",
    "        plt.show()\n"
   ]
  },
  {
   "cell_type": "code",
   "execution_count": null,
   "metadata": {},
   "outputs": [],
   "source": [
    "def test_havel_hakimi_2():\n",
    "    # note that these are the same seq. as we did by hand on exercises\n",
    "    list1 = [2, 2, 2, 1, 1]\n",
    "    list2 =  [3,3,3,3,3,3]\n",
    "    list3 =  [3,3,3]\n",
    "    \n",
    "    display_graphs(all_graphs_from_degree_sequence(list1))\n",
    "    display_graphs(all_graphs_from_degree_sequence(list2))\n",
    "    display_graphs(all_graphs_from_degree_sequence(list3))\n",
    "    "
   ]
  },
  {
   "cell_type": "code",
   "execution_count": null,
   "metadata": {},
   "outputs": [],
   "source": [
    "test_havel_hakimi_2()"
   ]
  }
 ],
 "metadata": {
  "kernelspec": {
   "display_name": "Python 3",
   "language": "python",
   "name": "python3"
  },
  "language_info": {
   "codemirror_mode": {
    "name": "ipython",
    "version": 3
   },
   "file_extension": ".py",
   "mimetype": "text/x-python",
   "name": "python",
   "nbconvert_exporter": "python",
   "pygments_lexer": "ipython3",
   "version": "undefined.undefined.undefined"
  },
  "orig_nbformat": 4
 },
 "nbformat": 4,
 "nbformat_minor": 2
}
